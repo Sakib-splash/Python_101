{
 "cells": [
  {
   "cell_type": "code",
   "execution_count": 1,
   "id": "73d9397b-eb80-4906-a668-3162555bfaa1",
   "metadata": {},
   "outputs": [
    {
     "name": "stdout",
     "output_type": "stream",
     "text": [
      "Hello python 101\n"
     ]
    }
   ],
   "source": [
    "print(\"Hello python 101\")"
   ]
  },
  {
   "cell_type": "code",
   "execution_count": 2,
   "id": "2dc3320d-f76f-4441-8861-a714fa11e36e",
   "metadata": {},
   "outputs": [
    {
     "ename": "NameError",
     "evalue": "name 'Print' is not defined",
     "output_type": "error",
     "traceback": [
      "\u001b[1;31m---------------------------------------------------------------------------\u001b[0m",
      "\u001b[1;31mNameError\u001b[0m                                 Traceback (most recent call last)",
      "Cell \u001b[1;32mIn[2], line 1\u001b[0m\n\u001b[1;32m----> 1\u001b[0m \u001b[43mPrint\u001b[49m(\u001b[38;5;124m\"\u001b[39m\u001b[38;5;124mSemantic Error\u001b[39m\u001b[38;5;124m\"\u001b[39m)\n",
      "\u001b[1;31mNameError\u001b[0m: name 'Print' is not defined"
     ]
    }
   ],
   "source": [
    "Print(\"Semantic Error\")"
   ]
  },
  {
   "cell_type": "code",
   "execution_count": 8,
   "id": "4a79345b-10b9-4675-8972-5a1702471fd9",
   "metadata": {},
   "outputs": [
    {
     "data": {
      "text/plain": [
       "str"
      ]
     },
     "execution_count": 8,
     "metadata": {},
     "output_type": "execute_result"
    }
   ],
   "source": [
    "type(\"hello\")\n",
    "#type(11)\n",
    "#type(11.11)"
   ]
  },
  {
   "cell_type": "code",
   "execution_count": 11,
   "id": "0e5288bc-3b0e-428f-992f-38fc9c01a2fa",
   "metadata": {},
   "outputs": [
    {
     "data": {
      "text/plain": [
       "2.0"
      ]
     },
     "execution_count": 11,
     "metadata": {},
     "output_type": "execute_result"
    }
   ],
   "source": [
    "float(2)"
   ]
  },
  {
   "cell_type": "code",
   "execution_count": 12,
   "id": "6ede8d47-dda3-4e4e-88f5-ba9217545f75",
   "metadata": {},
   "outputs": [
    {
     "ename": "ValueError",
     "evalue": "invalid literal for int() with base 10: 'A'",
     "output_type": "error",
     "traceback": [
      "\u001b[1;31m---------------------------------------------------------------------------\u001b[0m",
      "\u001b[1;31mValueError\u001b[0m                                Traceback (most recent call last)",
      "Cell \u001b[1;32mIn[12], line 1\u001b[0m\n\u001b[1;32m----> 1\u001b[0m \u001b[38;5;28;43mint\u001b[39;49m\u001b[43m(\u001b[49m\u001b[38;5;124;43m\"\u001b[39;49m\u001b[38;5;124;43mA\u001b[39;49m\u001b[38;5;124;43m\"\u001b[39;49m\u001b[43m)\u001b[49m\n",
      "\u001b[1;31mValueError\u001b[0m: invalid literal for int() with base 10: 'A'"
     ]
    }
   ],
   "source": [
    "int(\"A\")"
   ]
  },
  {
   "cell_type": "code",
   "execution_count": 13,
   "id": "226fcc5d-c914-4466-bdef-0f8326d6e129",
   "metadata": {},
   "outputs": [
    {
     "data": {
      "text/plain": [
       "'2.5'"
      ]
     },
     "execution_count": 13,
     "metadata": {},
     "output_type": "execute_result"
    }
   ],
   "source": [
    "str(2.5)"
   ]
  },
  {
   "cell_type": "code",
   "execution_count": 15,
   "id": "28419068-4d4a-47e2-825c-f0fb702385db",
   "metadata": {},
   "outputs": [
    {
     "data": {
      "text/plain": [
       "4"
      ]
     },
     "execution_count": 15,
     "metadata": {},
     "output_type": "execute_result"
    }
   ],
   "source": [
    "25//6 #result will be rounded"
   ]
  },
  {
   "cell_type": "code",
   "execution_count": 18,
   "id": "f88d4eb7-3daa-4e4d-9440-e99c34e20402",
   "metadata": {},
   "outputs": [
    {
     "data": {
      "text/plain": [
       "'a'"
      ]
     },
     "execution_count": 18,
     "metadata": {},
     "output_type": "execute_result"
    }
   ],
   "source": [
    "Name=\"Md. Sakibul Islam\"\n",
    "Name[-1]"
   ]
  },
  {
   "cell_type": "code",
   "execution_count": 19,
   "id": "61a73f38-052a-4b13-806b-2fb9f0b2b0db",
   "metadata": {},
   "outputs": [
    {
     "data": {
      "text/plain": [
       "'Md. '"
      ]
     },
     "execution_count": 19,
     "metadata": {},
     "output_type": "execute_result"
    }
   ],
   "source": [
    "Name[0:4]"
   ]
  },
  {
   "cell_type": "code",
   "execution_count": 20,
   "id": "c980f76d-2022-46d0-8fdc-a0088821b09d",
   "metadata": {},
   "outputs": [
    {
     "data": {
      "text/plain": [
       "'bul '"
      ]
     },
     "execution_count": 20,
     "metadata": {},
     "output_type": "execute_result"
    }
   ],
   "source": [
    "Name[8:12]"
   ]
  },
  {
   "cell_type": "code",
   "execution_count": 21,
   "id": "6695845d-7503-441a-a438-c1c7b948dbb1",
   "metadata": {},
   "outputs": [
    {
     "data": {
      "text/plain": [
       "'M.SkblIlm'"
      ]
     },
     "execution_count": 21,
     "metadata": {},
     "output_type": "execute_result"
    }
   ],
   "source": [
    "Name[::2] #indicate every second variable"
   ]
  },
  {
   "cell_type": "code",
   "execution_count": 22,
   "id": "25241679-7653-46d5-a347-59da930dfa24",
   "metadata": {},
   "outputs": [
    {
     "data": {
      "text/plain": [
       "17"
      ]
     },
     "execution_count": 22,
     "metadata": {},
     "output_type": "execute_result"
    }
   ],
   "source": [
    "len(Name)"
   ]
  },
  {
   "cell_type": "code",
   "execution_count": 23,
   "id": "5870977b-3983-4159-8299-35f5d1214df3",
   "metadata": {},
   "outputs": [
    {
     "data": {
      "text/plain": [
       "'Md. Sakibul Islam is a student.'"
      ]
     },
     "execution_count": 23,
     "metadata": {},
     "output_type": "execute_result"
    }
   ],
   "source": [
    "Name+\" is a student.\""
   ]
  },
  {
   "cell_type": "code",
   "execution_count": 24,
   "id": "4a1bc5e6-91bb-46ef-8ee4-8168bb8c5d66",
   "metadata": {},
   "outputs": [
    {
     "data": {
      "text/plain": [
       "'Md. Sakibul IslamMd. Sakibul IslamMd. Sakibul Islam'"
      ]
     },
     "execution_count": 24,
     "metadata": {},
     "output_type": "execute_result"
    }
   ],
   "source": [
    "Name*3\n"
   ]
  },
  {
   "cell_type": "code",
   "execution_count": 25,
   "id": "8c9dc6a9-c658-4dd5-814c-577a306f18e3",
   "metadata": {},
   "outputs": [
    {
     "name": "stdout",
     "output_type": "stream",
     "text": [
      "Md. Sakibul Islam\n",
      "Md. Sakibul Islam\n"
     ]
    }
   ],
   "source": [
    "# \\ represents escape sequence\n",
    "print(Name+\"\\n\"+Name)"
   ]
  },
  {
   "cell_type": "code",
   "execution_count": 26,
   "id": "4fa5320c-329f-4fb9-8fc4-9913845ea512",
   "metadata": {},
   "outputs": [
    {
     "name": "stdout",
     "output_type": "stream",
     "text": [
      "hello \\ world\n"
     ]
    }
   ],
   "source": [
    "print(\"hello \\\\ world\")"
   ]
  },
  {
   "cell_type": "code",
   "execution_count": 27,
   "id": "81f7cac0-37ec-422f-a4a5-a5fcbf5e03ab",
   "metadata": {},
   "outputs": [],
   "source": [
    "B=Name.upper()"
   ]
  },
  {
   "cell_type": "code",
   "execution_count": 28,
   "id": "dd1a38e1-6f52-4c0a-a383-da9ca3718b59",
   "metadata": {},
   "outputs": [
    {
     "data": {
      "text/plain": [
       "'MD. SAKIBUL ISLAM'"
      ]
     },
     "execution_count": 28,
     "metadata": {},
     "output_type": "execute_result"
    }
   ],
   "source": [
    "B"
   ]
  },
  {
   "cell_type": "code",
   "execution_count": 1,
   "id": "4ce2614a-b3cc-4a9c-923d-f0ac00da86ca",
   "metadata": {},
   "outputs": [
    {
     "data": {
      "text/plain": [
       "('Sakib_splash', 10, 20.5)"
      ]
     },
     "execution_count": 1,
     "metadata": {},
     "output_type": "execute_result"
    }
   ],
   "source": [
    "tuple1=(\"Sakib_splash\",10,20.5)\n",
    "tuple1"
   ]
  },
  {
   "cell_type": "code",
   "execution_count": 2,
   "id": "5c8691bf-d953-4d24-93ce-7bfaa7e2b463",
   "metadata": {},
   "outputs": [
    {
     "data": {
      "text/plain": [
       "'Sakib_splash'"
      ]
     },
     "execution_count": 2,
     "metadata": {},
     "output_type": "execute_result"
    }
   ],
   "source": [
    "tuple1[0]"
   ]
  },
  {
   "cell_type": "code",
   "execution_count": 3,
   "id": "1b137495-f677-42e4-b948-00d9af9788cd",
   "metadata": {},
   "outputs": [
    {
     "data": {
      "text/plain": [
       "('Sakib_splash', 10, 20.5, 'king', 50, 200)"
      ]
     },
     "execution_count": 3,
     "metadata": {},
     "output_type": "execute_result"
    }
   ],
   "source": [
    "tuple2=tuple1+(\"king\",50,200)\n",
    "tuple2"
   ]
  },
  {
   "cell_type": "code",
   "execution_count": 4,
   "id": "a544edf3-0238-4da6-9ded-663a3ccb2762",
   "metadata": {},
   "outputs": [
    {
     "data": {
      "text/plain": [
       "('Sakib_splash', 10, 20.5)"
      ]
     },
     "execution_count": 4,
     "metadata": {},
     "output_type": "execute_result"
    }
   ],
   "source": [
    "tuple2[0:3]"
   ]
  },
  {
   "cell_type": "code",
   "execution_count": 5,
   "id": "c5877d8a-88c4-47dd-830f-647a48fc3761",
   "metadata": {},
   "outputs": [
    {
     "data": {
      "text/plain": [
       "3"
      ]
     },
     "execution_count": 5,
     "metadata": {},
     "output_type": "execute_result"
    }
   ],
   "source": [
    "len(tuple1)"
   ]
  },
  {
   "cell_type": "code",
   "execution_count": 6,
   "id": "9d05bc49-da8c-4368-a35c-9748323de745",
   "metadata": {},
   "outputs": [
    {
     "ename": "TypeError",
     "evalue": "'tuple' object does not support item assignment",
     "output_type": "error",
     "traceback": [
      "\u001b[1;31m---------------------------------------------------------------------------\u001b[0m",
      "\u001b[1;31mTypeError\u001b[0m                                 Traceback (most recent call last)",
      "Cell \u001b[1;32mIn[6], line 2\u001b[0m\n\u001b[0;32m      1\u001b[0m \u001b[38;5;66;03m#immutable, couldnot change the elements \u001b[39;00m\n\u001b[1;32m----> 2\u001b[0m \u001b[43mtuple1\u001b[49m\u001b[43m[\u001b[49m\u001b[38;5;241;43m2\u001b[39;49m\u001b[43m]\u001b[49m\u001b[38;5;241m=\u001b[39m\u001b[38;5;241m65\u001b[39m\n",
      "\u001b[1;31mTypeError\u001b[0m: 'tuple' object does not support item assignment"
     ]
    }
   ],
   "source": [
    "#immutable, couldnot change the elements \n",
    "tuple1[2]=65"
   ]
  },
  {
   "cell_type": "code",
   "execution_count": 9,
   "id": "586c7402-5197-4804-b397-a64a8d791528",
   "metadata": {},
   "outputs": [
    {
     "data": {
      "text/plain": [
       "[15, 20, 35, 50]"
      ]
     },
     "execution_count": 9,
     "metadata": {},
     "output_type": "execute_result"
    }
   ],
   "source": [
    "#sorted tuple\n",
    "tuple3=(50,20,35,15)\n",
    "tuple4=sorted(tuple3)\n",
    "tuple4"
   ]
  },
  {
   "cell_type": "code",
   "execution_count": 10,
   "id": "9619385c-dadc-476f-9d68-8c303b9c71ad",
   "metadata": {},
   "outputs": [
    {
     "data": {
      "text/plain": [
       "('sakib', 10, ('king', 'splash'), (20, 200))"
      ]
     },
     "execution_count": 10,
     "metadata": {},
     "output_type": "execute_result"
    }
   ],
   "source": [
    "tuple5=(\"sakib\",10,(\"king\",\"splash\"),(20,200))\n",
    "tuple5"
   ]
  },
  {
   "cell_type": "code",
   "execution_count": 11,
   "id": "fb6792f9-d8b5-47d2-89bb-7254a9fddb56",
   "metadata": {},
   "outputs": [
    {
     "data": {
      "text/plain": [
       "('king', 'splash')"
      ]
     },
     "execution_count": 11,
     "metadata": {},
     "output_type": "execute_result"
    }
   ],
   "source": [
    "tuple5[2]"
   ]
  },
  {
   "cell_type": "code",
   "execution_count": 12,
   "id": "3c6f1ed7-8d77-406b-9650-01c71f33ee8a",
   "metadata": {},
   "outputs": [
    {
     "data": {
      "text/plain": [
       "'king'"
      ]
     },
     "execution_count": 12,
     "metadata": {},
     "output_type": "execute_result"
    }
   ],
   "source": [
    "tuple5[2][0]"
   ]
  },
  {
   "cell_type": "code",
   "execution_count": 13,
   "id": "879781e5-0a8f-4fb2-be91-8c3ad2e968ab",
   "metadata": {},
   "outputs": [
    {
     "data": {
      "text/plain": [
       "'splash'"
      ]
     },
     "execution_count": 13,
     "metadata": {},
     "output_type": "execute_result"
    }
   ],
   "source": [
    "tuple5[2][1]"
   ]
  },
  {
   "cell_type": "code",
   "execution_count": 5,
   "id": "643b631e-b3f8-4447-9aa8-c8f3a418cc35",
   "metadata": {},
   "outputs": [
    {
     "data": {
      "text/plain": [
       "['Sakib_splash', 10, 20.5]"
      ]
     },
     "execution_count": 5,
     "metadata": {},
     "output_type": "execute_result"
    }
   ],
   "source": [
    "#list\n",
    "list1=[\"Sakib_splash\",10,20.5]\n",
    "list1"
   ]
  },
  {
   "cell_type": "code",
   "execution_count": 6,
   "id": "be548919-54b7-4e7c-acec-87de7576d313",
   "metadata": {},
   "outputs": [
    {
     "data": {
      "text/plain": [
       "['Sakib_splash', 10, 20.5, 'king']"
      ]
     },
     "execution_count": 6,
     "metadata": {},
     "output_type": "execute_result"
    }
   ],
   "source": [
    "list1.extend([\"king\"])\n",
    "list1"
   ]
  },
  {
   "cell_type": "code",
   "execution_count": 7,
   "id": "e813902a-cfee-4b89-a407-267b01785a6f",
   "metadata": {},
   "outputs": [
    {
     "data": {
      "text/plain": [
       "['Sakib_splash', 10, 20.5, 'king', 'S']"
      ]
     },
     "execution_count": 7,
     "metadata": {},
     "output_type": "execute_result"
    }
   ],
   "source": [
    "list1.append(\"S\")\n",
    "list1"
   ]
  },
  {
   "cell_type": "code",
   "execution_count": 8,
   "id": "7f746312-435f-44be-b3ca-836253bb70c6",
   "metadata": {},
   "outputs": [],
   "source": [
    "list1[0]=\"Sakibul islam\""
   ]
  },
  {
   "cell_type": "code",
   "execution_count": 9,
   "id": "b9a8233c-8554-41cf-9e5d-6e00c1b4ff9d",
   "metadata": {},
   "outputs": [
    {
     "data": {
      "text/plain": [
       "['Sakibul islam', 10, 20.5, 'king', 'S']"
      ]
     },
     "execution_count": 9,
     "metadata": {},
     "output_type": "execute_result"
    }
   ],
   "source": [
    "list1"
   ]
  },
  {
   "cell_type": "code",
   "execution_count": 10,
   "id": "a7fe5fe2-11d9-4aa6-9004-05fdb7b27eed",
   "metadata": {},
   "outputs": [
    {
     "data": {
      "text/plain": [
       "[10, 20.5, 'king', 'S']"
      ]
     },
     "execution_count": 10,
     "metadata": {},
     "output_type": "execute_result"
    }
   ],
   "source": [
    "del(list1[0])\n",
    "list1"
   ]
  },
  {
   "cell_type": "code",
   "execution_count": 11,
   "id": "da7ae78e-7576-4009-9d03-c7a1ce5f43b9",
   "metadata": {},
   "outputs": [
    {
     "data": {
      "text/plain": [
       "['sakibul', 'islam']"
      ]
     },
     "execution_count": 11,
     "metadata": {},
     "output_type": "execute_result"
    }
   ],
   "source": [
    "\"sakibul islam\".split()"
   ]
  },
  {
   "cell_type": "code",
   "execution_count": 12,
   "id": "e59957b1-0b31-44a3-b742-4c5c83c67435",
   "metadata": {},
   "outputs": [
    {
     "data": {
      "text/plain": [
       "['a', 'b', 'c', 'd']"
      ]
     },
     "execution_count": 12,
     "metadata": {},
     "output_type": "execute_result"
    }
   ],
   "source": [
    "\"a,b,c,d\".split(\",\")"
   ]
  },
  {
   "cell_type": "code",
   "execution_count": 13,
   "id": "d8c160a6-8db5-4a54-b771-b955ef81d759",
   "metadata": {},
   "outputs": [
    {
     "data": {
      "text/plain": [
       "{10, 20.5, 200, 50, 'Sakib_splash', 'king'}"
      ]
     },
     "execution_count": 13,
     "metadata": {},
     "output_type": "execute_result"
    }
   ],
   "source": [
    "#SETS\n",
    "A={'Sakib_splash', 10, 20.5, 'king', 50, 200}\n",
    "A"
   ]
  },
  {
   "cell_type": "code",
   "execution_count": 15,
   "id": "2c9506d2-a934-44f9-ba1a-7206a508a86d",
   "metadata": {},
   "outputs": [
    {
     "data": {
      "text/plain": [
       "{10, 20, 20.5, 200, 50, 'Sakib_splash', 'king'}"
      ]
     },
     "execution_count": 15,
     "metadata": {},
     "output_type": "execute_result"
    }
   ],
   "source": [
    "A.add(20)\n",
    "A"
   ]
  },
  {
   "cell_type": "code",
   "execution_count": 16,
   "id": "e784d1f3-99f5-412f-b02c-6be6ad4455c6",
   "metadata": {},
   "outputs": [
    {
     "data": {
      "text/plain": [
       "{10, 20, 20.5, 200, 50, 'Sakib_splash', 'king'}"
      ]
     },
     "execution_count": 16,
     "metadata": {},
     "output_type": "execute_result"
    }
   ],
   "source": [
    "A.add(10)\n",
    "A"
   ]
  },
  {
   "cell_type": "code",
   "execution_count": 17,
   "id": "7ce192c3-133a-4552-afb2-22b4bb27fc83",
   "metadata": {},
   "outputs": [
    {
     "data": {
      "text/plain": [
       "{10, 20, 20.5, 50, 'Sakib_splash', 'king'}"
      ]
     },
     "execution_count": 17,
     "metadata": {},
     "output_type": "execute_result"
    }
   ],
   "source": [
    "A.remove(200)\n",
    "A"
   ]
  },
  {
   "cell_type": "code",
   "execution_count": 18,
   "id": "9e131700-8ff7-4945-932a-56f435d4ba47",
   "metadata": {},
   "outputs": [
    {
     "data": {
      "text/plain": [
       "True"
      ]
     },
     "execution_count": 18,
     "metadata": {},
     "output_type": "execute_result"
    }
   ],
   "source": [
    "\"king\" in A"
   ]
  },
  {
   "cell_type": "code",
   "execution_count": 19,
   "id": "f2d166a0-782a-465b-9b29-fcb721a5bd6c",
   "metadata": {},
   "outputs": [
    {
     "data": {
      "text/plain": [
       "False"
      ]
     },
     "execution_count": 19,
     "metadata": {},
     "output_type": "execute_result"
    }
   ],
   "source": [
    "\"Queen\" in A"
   ]
  },
  {
   "cell_type": "code",
   "execution_count": 20,
   "id": "2b707fe9-bf2f-4edd-aab3-32f3bab52c9e",
   "metadata": {},
   "outputs": [
    {
     "data": {
      "text/plain": [
       "{10, 20, 20.5, 50, 'Sakib_splash', 'king'}"
      ]
     },
     "execution_count": 20,
     "metadata": {},
     "output_type": "execute_result"
    }
   ],
   "source": [
    "A"
   ]
  },
  {
   "cell_type": "code",
   "execution_count": 22,
   "id": "e29d9e0c-0d1f-4a29-a6e3-000ca32ca802",
   "metadata": {},
   "outputs": [
    {
     "data": {
      "text/plain": [
       "{15, 20, 30, 50, 'Queen', 'king'}"
      ]
     },
     "execution_count": 22,
     "metadata": {},
     "output_type": "execute_result"
    }
   ],
   "source": [
    "B={15,20,30,50,\"king\",\"Queen\"}\n",
    "B\n"
   ]
  },
  {
   "cell_type": "code",
   "execution_count": 23,
   "id": "8dcda023-1adf-43a1-8ee0-c6ad6188ad63",
   "metadata": {},
   "outputs": [
    {
     "data": {
      "text/plain": [
       "{20, 50, 'king'}"
      ]
     },
     "execution_count": 23,
     "metadata": {},
     "output_type": "execute_result"
    }
   ],
   "source": [
    "C = A & B #intersection of set A and B\n",
    "C"
   ]
  },
  {
   "cell_type": "code",
   "execution_count": 25,
   "id": "d9214d79-4024-4c9e-80a6-693dff0ca818",
   "metadata": {},
   "outputs": [
    {
     "data": {
      "text/plain": [
       "{10, 15, 20, 20.5, 30, 50, 'Queen', 'Sakib_splash', 'king'}"
      ]
     },
     "execution_count": 25,
     "metadata": {},
     "output_type": "execute_result"
    }
   ],
   "source": [
    "D = A.union(B) #union of two set\n",
    "D"
   ]
  },
  {
   "cell_type": "code",
   "execution_count": 26,
   "id": "d7945c89-37c2-49ce-b728-3d3e86ccc8d0",
   "metadata": {},
   "outputs": [
    {
     "data": {
      "text/plain": [
       "(4, 4, 4)"
      ]
     },
     "execution_count": 26,
     "metadata": {},
     "output_type": "execute_result"
    }
   ],
   "source": [
    "#Dictionaries:\n",
    "Dict={\"A\":1,\"B\":\"2\",\"C\":[3,3,3],\"D\":(4,4,4),'E':5,'F':6}\n",
    "Dict[\"D\"]"
   ]
  },
  {
   "cell_type": "code",
   "execution_count": 27,
   "id": "05121de6-59ab-4794-976e-f34a04d18f46",
   "metadata": {},
   "outputs": [],
   "source": [
    "squares=[\"red\",\"yellow\",\"green\",\"purple\",\"blue\"]\n",
    "\n",
    "for i in range(0,5):\n",
    "    squares[i] = \"white\""
   ]
  },
  {
   "cell_type": "code",
   "execution_count": 28,
   "id": "64183fb5-637c-4a93-9752-d601fc74d0f8",
   "metadata": {},
   "outputs": [
    {
     "data": {
      "text/plain": [
       "['white', 'white', 'white', 'white', 'white']"
      ]
     },
     "execution_count": 28,
     "metadata": {},
     "output_type": "execute_result"
    }
   ],
   "source": [
    "squares"
   ]
  },
  {
   "cell_type": "code",
   "execution_count": 30,
   "id": "dd5a5a30-2585-471f-b0a2-22be4e1b87a5",
   "metadata": {},
   "outputs": [
    {
     "name": "stdout",
     "output_type": "stream",
     "text": [
      "red\n",
      "0\n",
      "yellow\n",
      "1\n",
      "green\n",
      "2\n",
      "purple\n",
      "3\n",
      "blue\n",
      "4\n"
     ]
    }
   ],
   "source": [
    "squares=[\"red\",\"yellow\",\"green\",\"purple\",\"blue\"]\n",
    "\n",
    "for i,square in enumerate(squares):\n",
    "    print(square)\n",
    "    print(i)"
   ]
  },
  {
   "cell_type": "code",
   "execution_count": 1,
   "id": "900e6714-cd17-4931-849b-558e888acd20",
   "metadata": {},
   "outputs": [],
   "source": [
    "def f(a,b):\n",
    "    c=a*b\n",
    "    return c"
   ]
  },
  {
   "cell_type": "code",
   "execution_count": 5,
   "id": "32a845f6-7a45-4c8b-ae0d-44bff2027424",
   "metadata": {},
   "outputs": [],
   "source": [
    "##Complete the function g such that the input c is a list of integers and the output is the sum of all the elements in the list."
   ]
  },
  {
   "cell_type": "code",
   "execution_count": 6,
   "id": "dbdf1153-dc13-498b-863a-823ffb7a9e71",
   "metadata": {},
   "outputs": [],
   "source": [
    "def g(c):\n",
    "    for i in c:\n",
    "        s+=c[i]\n",
    "    return s"
   ]
  },
  {
   "cell_type": "code",
   "execution_count": 7,
   "id": "d70852ad-52b8-4f54-8f09-babe7f68dfe2",
   "metadata": {},
   "outputs": [],
   "source": [
    "def g(c):\n",
    "\n",
    "    return sum(c)"
   ]
  },
  {
   "cell_type": "code",
   "execution_count": 8,
   "id": "88f5ae5b-1f73-4f12-98aa-bf79534a5bfe",
   "metadata": {},
   "outputs": [
    {
     "ename": "ZeroDivisionError",
     "evalue": "division by zero",
     "output_type": "error",
     "traceback": [
      "\u001b[1;31m---------------------------------------------------------------------------\u001b[0m",
      "\u001b[1;31mZeroDivisionError\u001b[0m                         Traceback (most recent call last)",
      "Cell \u001b[1;32mIn[8], line 2\u001b[0m\n\u001b[0;32m      1\u001b[0m \u001b[38;5;66;03m#Exception Handling\u001b[39;00m\n\u001b[1;32m----> 2\u001b[0m \u001b[38;5;241;43m1\u001b[39;49m\u001b[38;5;241;43m/\u001b[39;49m\u001b[38;5;241;43m0\u001b[39;49m\n",
      "\u001b[1;31mZeroDivisionError\u001b[0m: division by zero"
     ]
    }
   ],
   "source": [
    "#Exception Handling\n",
    "1/0\n"
   ]
  },
  {
   "cell_type": "code",
   "execution_count": 9,
   "id": "b41a4142-d765-4ab8-9c04-a32fecb245fa",
   "metadata": {},
   "outputs": [
    {
     "ename": "NameError",
     "evalue": "name 'a' is not defined",
     "output_type": "error",
     "traceback": [
      "\u001b[1;31m---------------------------------------------------------------------------\u001b[0m",
      "\u001b[1;31mNameError\u001b[0m                                 Traceback (most recent call last)",
      "Cell \u001b[1;32mIn[9], line 1\u001b[0m\n\u001b[1;32m----> 1\u001b[0m y \u001b[38;5;241m=\u001b[39m \u001b[43ma\u001b[49m \u001b[38;5;241m+\u001b[39m \u001b[38;5;241m5\u001b[39m\n",
      "\u001b[1;31mNameError\u001b[0m: name 'a' is not defined"
     ]
    }
   ],
   "source": [
    "y = a + 5"
   ]
  },
  {
   "cell_type": "code",
   "execution_count": 10,
   "id": "b27b25c8-439b-4af6-95f3-959e879c81b1",
   "metadata": {},
   "outputs": [
    {
     "ename": "IndexError",
     "evalue": "list index out of range",
     "output_type": "error",
     "traceback": [
      "\u001b[1;31m---------------------------------------------------------------------------\u001b[0m",
      "\u001b[1;31mIndexError\u001b[0m                                Traceback (most recent call last)",
      "Cell \u001b[1;32mIn[10], line 2\u001b[0m\n\u001b[0;32m      1\u001b[0m a \u001b[38;5;241m=\u001b[39m [\u001b[38;5;241m1\u001b[39m, \u001b[38;5;241m2\u001b[39m, \u001b[38;5;241m3\u001b[39m]\n\u001b[1;32m----> 2\u001b[0m \u001b[43ma\u001b[49m\u001b[43m[\u001b[49m\u001b[38;5;241;43m10\u001b[39;49m\u001b[43m]\u001b[49m\n",
      "\u001b[1;31mIndexError\u001b[0m: list index out of range"
     ]
    }
   ],
   "source": [
    "a = [1, 2, 3]\n",
    "a[10]"
   ]
  },
  {
   "cell_type": "code",
   "execution_count": 11,
   "id": "c025fcd2-9dfd-44aa-9ab7-be8f3e2aadfd",
   "metadata": {},
   "outputs": [
    {
     "name": "stdin",
     "output_type": "stream",
     "text": [
      "Please enter a number to divide a 0.\n"
     ]
    },
    {
     "name": "stdout",
     "output_type": "stream",
     "text": [
      "There was an error\n"
     ]
    }
   ],
   "source": [
    "a = 1\n",
    "\n",
    "try:\n",
    "    b = int(input(\"Please enter a number to divide a\"))\n",
    "    a = a/b\n",
    "    print(\"Success a=\",a)\n",
    "except:\n",
    "    print(\"There was an error\")\n",
    "        "
   ]
  },
  {
   "cell_type": "code",
   "execution_count": 13,
   "id": "6ed854c8-2f38-44ef-8a1a-0fdb07873b8a",
   "metadata": {},
   "outputs": [
    {
     "name": "stdout",
     "output_type": "stream",
     "text": [
      "11\n",
      "22\n",
      "33\n"
     ]
    }
   ],
   "source": [
    "A = ['1','2','3']\n",
    "\n",
    "for a in A:\n",
    "\n",
    "    print(2*a)"
   ]
  },
  {
   "cell_type": "code",
   "execution_count": 46,
   "id": "a8707325-e43d-41ef-921b-5c9fd9ac12c7",
   "metadata": {},
   "outputs": [
    {
     "data": {
      "text/plain": [
       "'hello\\nhi\\nhow are you'"
      ]
     },
     "execution_count": 46,
     "metadata": {},
     "output_type": "execute_result"
    }
   ],
   "source": [
    "#File open \n",
    "file1=open(\"readme.txt\",\"r\")\n",
    "file1.read()\n"
   ]
  },
  {
   "cell_type": "code",
   "execution_count": 48,
   "id": "b53851b3-c07b-4f2a-b590-adbe79efab7e",
   "metadata": {},
   "outputs": [
    {
     "data": {
      "text/plain": [
       "''"
      ]
     },
     "execution_count": 48,
     "metadata": {},
     "output_type": "execute_result"
    }
   ],
   "source": [
    "file1.readline()"
   ]
  },
  {
   "cell_type": "code",
   "execution_count": 1,
   "id": "856ce78e-f647-4de9-bb4f-b63927e1f780",
   "metadata": {},
   "outputs": [],
   "source": [
    "# Write line to file\n",
    "exmp2 = 'Example2.txt'\n",
    "with open(exmp2, 'w') as writefile:\n",
    "    writefile.write(\"This is line A\")"
   ]
  },
  {
   "cell_type": "code",
   "execution_count": 2,
   "id": "79eb2641-13be-43ef-a04c-7889f0551caf",
   "metadata": {},
   "outputs": [
    {
     "name": "stdout",
     "output_type": "stream",
     "text": [
      "This is line A\n"
     ]
    }
   ],
   "source": [
    "# Read file\n",
    "\n",
    "with open(exmp2, 'r') as testwritefile:\n",
    "    print(testwritefile.read())"
   ]
  },
  {
   "cell_type": "code",
   "execution_count": 3,
   "id": "58c29350-9c00-457f-ab41-b6ff7b56e44f",
   "metadata": {},
   "outputs": [],
   "source": [
    "# Write lines to file\n",
    "\n",
    "with open(exmp2, 'w') as writefile:\n",
    "    writefile.write(\"This is line A\\n\")\n",
    "    writefile.write(\"This is line B\\n\")"
   ]
  },
  {
   "cell_type": "code",
   "execution_count": null,
   "id": "e7c8792f-2979-4d4c-a1e8-b03a33241b7d",
   "metadata": {},
   "outputs": [],
   "source": []
  }
 ],
 "metadata": {
  "kernelspec": {
   "display_name": "Python 3 (ipykernel)",
   "language": "python",
   "name": "python3"
  },
  "language_info": {
   "codemirror_mode": {
    "name": "ipython",
    "version": 3
   },
   "file_extension": ".py",
   "mimetype": "text/x-python",
   "name": "python",
   "nbconvert_exporter": "python",
   "pygments_lexer": "ipython3",
   "version": "3.12.4"
  }
 },
 "nbformat": 4,
 "nbformat_minor": 5
}
