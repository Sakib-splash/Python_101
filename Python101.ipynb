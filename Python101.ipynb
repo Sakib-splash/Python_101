{
 "cells": [
  {
   "cell_type": "code",
   "execution_count": 1,
   "id": "73d9397b-eb80-4906-a668-3162555bfaa1",
   "metadata": {},
   "outputs": [
    {
     "name": "stdout",
     "output_type": "stream",
     "text": [
      "Hello python 101\n"
     ]
    }
   ],
   "source": [
    "print(\"Hello python 101\")"
   ]
  },
  {
   "cell_type": "code",
   "execution_count": 2,
   "id": "2dc3320d-f76f-4441-8861-a714fa11e36e",
   "metadata": {},
   "outputs": [
    {
     "ename": "NameError",
     "evalue": "name 'Print' is not defined",
     "output_type": "error",
     "traceback": [
      "\u001b[1;31m---------------------------------------------------------------------------\u001b[0m",
      "\u001b[1;31mNameError\u001b[0m                                 Traceback (most recent call last)",
      "Cell \u001b[1;32mIn[2], line 1\u001b[0m\n\u001b[1;32m----> 1\u001b[0m \u001b[43mPrint\u001b[49m(\u001b[38;5;124m\"\u001b[39m\u001b[38;5;124mSemantic Error\u001b[39m\u001b[38;5;124m\"\u001b[39m)\n",
      "\u001b[1;31mNameError\u001b[0m: name 'Print' is not defined"
     ]
    }
   ],
   "source": [
    "Print(\"Semantic Error\")"
   ]
  },
  {
   "cell_type": "code",
   "execution_count": 8,
   "id": "4a79345b-10b9-4675-8972-5a1702471fd9",
   "metadata": {},
   "outputs": [
    {
     "data": {
      "text/plain": [
       "str"
      ]
     },
     "execution_count": 8,
     "metadata": {},
     "output_type": "execute_result"
    }
   ],
   "source": [
    "type(\"hello\")\n",
    "#type(11)\n",
    "#type(11.11)"
   ]
  },
  {
   "cell_type": "code",
   "execution_count": 11,
   "id": "0e5288bc-3b0e-428f-992f-38fc9c01a2fa",
   "metadata": {},
   "outputs": [
    {
     "data": {
      "text/plain": [
       "2.0"
      ]
     },
     "execution_count": 11,
     "metadata": {},
     "output_type": "execute_result"
    }
   ],
   "source": [
    "float(2)"
   ]
  },
  {
   "cell_type": "code",
   "execution_count": 12,
   "id": "6ede8d47-dda3-4e4e-88f5-ba9217545f75",
   "metadata": {},
   "outputs": [
    {
     "ename": "ValueError",
     "evalue": "invalid literal for int() with base 10: 'A'",
     "output_type": "error",
     "traceback": [
      "\u001b[1;31m---------------------------------------------------------------------------\u001b[0m",
      "\u001b[1;31mValueError\u001b[0m                                Traceback (most recent call last)",
      "Cell \u001b[1;32mIn[12], line 1\u001b[0m\n\u001b[1;32m----> 1\u001b[0m \u001b[38;5;28;43mint\u001b[39;49m\u001b[43m(\u001b[49m\u001b[38;5;124;43m\"\u001b[39;49m\u001b[38;5;124;43mA\u001b[39;49m\u001b[38;5;124;43m\"\u001b[39;49m\u001b[43m)\u001b[49m\n",
      "\u001b[1;31mValueError\u001b[0m: invalid literal for int() with base 10: 'A'"
     ]
    }
   ],
   "source": [
    "int(\"A\")"
   ]
  },
  {
   "cell_type": "code",
   "execution_count": 13,
   "id": "226fcc5d-c914-4466-bdef-0f8326d6e129",
   "metadata": {},
   "outputs": [
    {
     "data": {
      "text/plain": [
       "'2.5'"
      ]
     },
     "execution_count": 13,
     "metadata": {},
     "output_type": "execute_result"
    }
   ],
   "source": [
    "str(2.5)"
   ]
  },
  {
   "cell_type": "code",
   "execution_count": 15,
   "id": "28419068-4d4a-47e2-825c-f0fb702385db",
   "metadata": {},
   "outputs": [
    {
     "data": {
      "text/plain": [
       "4"
      ]
     },
     "execution_count": 15,
     "metadata": {},
     "output_type": "execute_result"
    }
   ],
   "source": [
    "25//6 #result will be rounded"
   ]
  },
  {
   "cell_type": "code",
   "execution_count": 18,
   "id": "f88d4eb7-3daa-4e4d-9440-e99c34e20402",
   "metadata": {},
   "outputs": [
    {
     "data": {
      "text/plain": [
       "'a'"
      ]
     },
     "execution_count": 18,
     "metadata": {},
     "output_type": "execute_result"
    }
   ],
   "source": [
    "Name=\"Md. Sakibul Islam\"\n",
    "Name[-1]"
   ]
  },
  {
   "cell_type": "code",
   "execution_count": 19,
   "id": "61a73f38-052a-4b13-806b-2fb9f0b2b0db",
   "metadata": {},
   "outputs": [
    {
     "data": {
      "text/plain": [
       "'Md. '"
      ]
     },
     "execution_count": 19,
     "metadata": {},
     "output_type": "execute_result"
    }
   ],
   "source": [
    "Name[0:4]"
   ]
  },
  {
   "cell_type": "code",
   "execution_count": 20,
   "id": "c980f76d-2022-46d0-8fdc-a0088821b09d",
   "metadata": {},
   "outputs": [
    {
     "data": {
      "text/plain": [
       "'bul '"
      ]
     },
     "execution_count": 20,
     "metadata": {},
     "output_type": "execute_result"
    }
   ],
   "source": [
    "Name[8:12]"
   ]
  },
  {
   "cell_type": "code",
   "execution_count": 21,
   "id": "6695845d-7503-441a-a438-c1c7b948dbb1",
   "metadata": {},
   "outputs": [
    {
     "data": {
      "text/plain": [
       "'M.SkblIlm'"
      ]
     },
     "execution_count": 21,
     "metadata": {},
     "output_type": "execute_result"
    }
   ],
   "source": [
    "Name[::2] #indicate every second variable"
   ]
  },
  {
   "cell_type": "code",
   "execution_count": 22,
   "id": "25241679-7653-46d5-a347-59da930dfa24",
   "metadata": {},
   "outputs": [
    {
     "data": {
      "text/plain": [
       "17"
      ]
     },
     "execution_count": 22,
     "metadata": {},
     "output_type": "execute_result"
    }
   ],
   "source": [
    "len(Name)"
   ]
  },
  {
   "cell_type": "code",
   "execution_count": 23,
   "id": "5870977b-3983-4159-8299-35f5d1214df3",
   "metadata": {},
   "outputs": [
    {
     "data": {
      "text/plain": [
       "'Md. Sakibul Islam is a student.'"
      ]
     },
     "execution_count": 23,
     "metadata": {},
     "output_type": "execute_result"
    }
   ],
   "source": [
    "Name+\" is a student.\""
   ]
  },
  {
   "cell_type": "code",
   "execution_count": 24,
   "id": "4a1bc5e6-91bb-46ef-8ee4-8168bb8c5d66",
   "metadata": {},
   "outputs": [
    {
     "data": {
      "text/plain": [
       "'Md. Sakibul IslamMd. Sakibul IslamMd. Sakibul Islam'"
      ]
     },
     "execution_count": 24,
     "metadata": {},
     "output_type": "execute_result"
    }
   ],
   "source": [
    "Name*3\n"
   ]
  },
  {
   "cell_type": "code",
   "execution_count": 25,
   "id": "8c9dc6a9-c658-4dd5-814c-577a306f18e3",
   "metadata": {},
   "outputs": [
    {
     "name": "stdout",
     "output_type": "stream",
     "text": [
      "Md. Sakibul Islam\n",
      "Md. Sakibul Islam\n"
     ]
    }
   ],
   "source": [
    "# \\ represents escape sequence\n",
    "print(Name+\"\\n\"+Name)"
   ]
  },
  {
   "cell_type": "code",
   "execution_count": 26,
   "id": "4fa5320c-329f-4fb9-8fc4-9913845ea512",
   "metadata": {},
   "outputs": [
    {
     "name": "stdout",
     "output_type": "stream",
     "text": [
      "hello \\ world\n"
     ]
    }
   ],
   "source": [
    "print(\"hello \\\\ world\")"
   ]
  },
  {
   "cell_type": "code",
   "execution_count": 27,
   "id": "81f7cac0-37ec-422f-a4a5-a5fcbf5e03ab",
   "metadata": {},
   "outputs": [],
   "source": [
    "B=Name.upper()"
   ]
  },
  {
   "cell_type": "code",
   "execution_count": 28,
   "id": "dd1a38e1-6f52-4c0a-a383-da9ca3718b59",
   "metadata": {},
   "outputs": [
    {
     "data": {
      "text/plain": [
       "'MD. SAKIBUL ISLAM'"
      ]
     },
     "execution_count": 28,
     "metadata": {},
     "output_type": "execute_result"
    }
   ],
   "source": [
    "B"
   ]
  },
  {
   "cell_type": "code",
   "execution_count": null,
   "id": "4ce2614a-b3cc-4a9c-923d-f0ac00da86ca",
   "metadata": {},
   "outputs": [],
   "source": []
  }
 ],
 "metadata": {
  "kernelspec": {
   "display_name": "Python 3 (ipykernel)",
   "language": "python",
   "name": "python3"
  },
  "language_info": {
   "codemirror_mode": {
    "name": "ipython",
    "version": 3
   },
   "file_extension": ".py",
   "mimetype": "text/x-python",
   "name": "python",
   "nbconvert_exporter": "python",
   "pygments_lexer": "ipython3",
   "version": "3.12.4"
  }
 },
 "nbformat": 4,
 "nbformat_minor": 5
}
