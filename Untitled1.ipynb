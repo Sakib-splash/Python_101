{
 "cells": [
  {
   "cell_type": "code",
   "execution_count": 1,
   "id": "3c8c1378-fd85-439b-a517-820d601635c1",
   "metadata": {},
   "outputs": [],
   "source": [
    "#Final Exam of the Course"
   ]
  },
  {
   "cell_type": "code",
   "execution_count": null,
   "id": "5706946c-f151-4d81-ba1d-65f04e4bb2ea",
   "metadata": {},
   "outputs": [],
   "source": []
  }
 ],
 "metadata": {
  "kernelspec": {
   "display_name": "Python 3 (ipykernel)",
   "language": "python",
   "name": "python3"
  },
  "language_info": {
   "codemirror_mode": {
    "name": "ipython",
    "version": 3
   },
   "file_extension": ".py",
   "mimetype": "text/x-python",
   "name": "python",
   "nbconvert_exporter": "python",
   "pygments_lexer": "ipython3",
   "version": "3.12.4"
  }
 },
 "nbformat": 4,
 "nbformat_minor": 5
}
